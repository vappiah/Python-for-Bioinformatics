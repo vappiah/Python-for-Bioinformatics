{
 "cells": [
  {
   "cell_type": "markdown",
   "id": "empirical-baghdad",
   "metadata": {},
   "source": [
    "## How to find the complements of  nucleotide sequences ##"
   ]
  },
  {
   "cell_type": "markdown",
   "id": "4bd8cd34",
   "metadata": {},
   "source": [
    "- Procedure\n",
    "   - obtain your sequence(s)\n",
    "   - create a dictionary object to store each of the four bases and their respective complements\n",
    "   - use loops to iterate over the bases in the sequence, find their complements and combine them."
   ]
  },
  {
   "cell_type": "markdown",
   "id": "4f84b07b",
   "metadata": {},
   "source": [
    "<a href=\"https://youtu.be/H6skN0Thl1c\">Full explanation of the codes is given in this video</a>"
   ]
  },
  {
   "cell_type": "markdown",
   "id": "664a7f6d",
   "metadata": {},
   "source": [
    "#### Working with a single sequence"
   ]
  },
  {
   "cell_type": "code",
   "execution_count": 9,
   "id": "27ae0e10",
   "metadata": {},
   "outputs": [],
   "source": [
    "#obtain your sequence\n",
    "\n",
    "DNA='ATCTAGAGGATATAC'"
   ]
  },
  {
   "cell_type": "code",
   "execution_count": 10,
   "id": "7a263a35",
   "metadata": {},
   "outputs": [
    {
     "name": "stdout",
     "output_type": "stream",
     "text": [
      "ATCTAGAGGATATAC\n"
     ]
    }
   ],
   "source": [
    "print(DNA)"
   ]
  },
  {
   "cell_type": "code",
   "execution_count": 11,
   "id": "38c4ec24",
   "metadata": {},
   "outputs": [
    {
     "data": {
      "text/plain": [
       "15"
      ]
     },
     "execution_count": 11,
     "metadata": {},
     "output_type": "execute_result"
    }
   ],
   "source": [
    "#length of sequence\n",
    "len(DNA)"
   ]
  },
  {
   "cell_type": "code",
   "execution_count": 12,
   "id": "c38fc942",
   "metadata": {},
   "outputs": [],
   "source": [
    "#create a dictionary to store the bases and their respective complements\n",
    "\n",
    "base_complements={'A':'T','T':'A','C':'G','G':'C'}"
   ]
  },
  {
   "cell_type": "code",
   "execution_count": 13,
   "id": "a0738235",
   "metadata": {},
   "outputs": [
    {
     "name": "stdout",
     "output_type": "stream",
     "text": [
      "{'A': 'T', 'T': 'A', 'C': 'G', 'G': 'C'}\n"
     ]
    }
   ],
   "source": [
    "print(base_complements)"
   ]
  },
  {
   "cell_type": "code",
   "execution_count": 14,
   "id": "8ea57801",
   "metadata": {},
   "outputs": [
    {
     "data": {
      "text/plain": [
       "'T'"
      ]
     },
     "execution_count": 14,
     "metadata": {},
     "output_type": "execute_result"
    }
   ],
   "source": [
    "#what is the complement of A\n",
    "base_complements['A']"
   ]
  },
  {
   "cell_type": "code",
   "execution_count": 15,
   "id": "1b13a452",
   "metadata": {},
   "outputs": [
    {
     "data": {
      "text/plain": [
       "'G'"
      ]
     },
     "execution_count": 15,
     "metadata": {},
     "output_type": "execute_result"
    }
   ],
   "source": [
    "#what is the complement of C\n",
    "base_complements['C']"
   ]
  },
  {
   "cell_type": "markdown",
   "id": "53a8187c",
   "metadata": {},
   "source": [
    "#### Find the complement  of the sequence  \"ATCTAGAGGATATAC\""
   ]
  },
  {
   "cell_type": "code",
   "execution_count": null,
   "id": "42a66863",
   "metadata": {},
   "outputs": [],
   "source": [
    "#APPROACH 1:  USE THE TRADITIONAL 'FOR' LOOP"
   ]
  },
  {
   "cell_type": "code",
   "execution_count": 16,
   "id": "e4504a1e",
   "metadata": {},
   "outputs": [],
   "source": [
    "#create an empty string\n",
    "sequence_complement=''\n",
    "\n",
    "for base in DNA:\n",
    "    base_complement=base_complements[base]\n",
    "    sequence_complement+=base_complement\n",
    "    "
   ]
  },
  {
   "cell_type": "code",
   "execution_count": 17,
   "id": "b3038bac",
   "metadata": {},
   "outputs": [
    {
     "name": "stdout",
     "output_type": "stream",
     "text": [
      "TAGATCTCCTATATG\n"
     ]
    }
   ],
   "source": [
    "print(sequence_complement)"
   ]
  },
  {
   "cell_type": "code",
   "execution_count": 19,
   "id": "3eb675b1",
   "metadata": {},
   "outputs": [
    {
     "name": "stdout",
     "output_type": "stream",
     "text": [
      "original sequence:   ATCTAGAGGATATAC\n",
      "sequence complement: TAGATCTCCTATATG\n"
     ]
    }
   ],
   "source": [
    "print('original sequence:  ',DNA)\n",
    "print('sequence complement:',sequence_complement)"
   ]
  },
  {
   "cell_type": "code",
   "execution_count": 20,
   "id": "4e09d7e9",
   "metadata": {},
   "outputs": [],
   "source": [
    "#APPROACH 2 : USING LIST COMPREHENSIONS\n",
    "\n",
    "sequence_complement2=[base_complements[base] for base in DNA]"
   ]
  },
  {
   "cell_type": "code",
   "execution_count": 21,
   "id": "7dd83683",
   "metadata": {},
   "outputs": [
    {
     "name": "stdout",
     "output_type": "stream",
     "text": [
      "['T', 'A', 'G', 'A', 'T', 'C', 'T', 'C', 'C', 'T', 'A', 'T', 'A', 'T', 'G']\n"
     ]
    }
   ],
   "source": [
    "print(sequence_complement2)"
   ]
  },
  {
   "cell_type": "code",
   "execution_count": 22,
   "id": "a68c5a27",
   "metadata": {},
   "outputs": [],
   "source": [
    "#convert the list to a string\n",
    "sequence_complement2=''.join(sequence_complement2)"
   ]
  },
  {
   "cell_type": "code",
   "execution_count": 23,
   "id": "d9ff8e99",
   "metadata": {},
   "outputs": [
    {
     "name": "stdout",
     "output_type": "stream",
     "text": [
      "TAGATCTCCTATATG\n"
     ]
    }
   ],
   "source": [
    "print(sequence_complement2)"
   ]
  },
  {
   "cell_type": "code",
   "execution_count": 24,
   "id": "542555a9",
   "metadata": {},
   "outputs": [
    {
     "name": "stdout",
     "output_type": "stream",
     "text": [
      "TAGATCTCCTATATG\n",
      "TAGATCTCCTATATG\n"
     ]
    }
   ],
   "source": [
    "print(sequence_complement)\n",
    "print(sequence_complement2)"
   ]
  },
  {
   "cell_type": "code",
   "execution_count": 25,
   "id": "008fe5e8",
   "metadata": {
    "scrolled": true
   },
   "outputs": [
    {
     "name": "stdout",
     "output_type": "stream",
     "text": [
      "original sequence: ATCTAGAGGATATAC\n",
      "approach 1:        TAGATCTCCTATATG\n",
      "approach 2:        TAGATCTCCTATATG\n"
     ]
    }
   ],
   "source": [
    "print('original sequence:',DNA)\n",
    "print('approach 1:       ',sequence_complement)\n",
    "print('approach 2:       ',sequence_complement2)"
   ]
  },
  {
   "cell_type": "markdown",
   "id": "406d807e",
   "metadata": {},
   "source": [
    "### Find the complements of multiple nucleotide sequences"
   ]
  },
  {
   "cell_type": "code",
   "execution_count": null,
   "id": "f0d7abcc",
   "metadata": {},
   "outputs": [],
   "source": [
    "#APPROACH: COMBINE FUNCTIONS AND LOOPS"
   ]
  },
  {
   "cell_type": "code",
   "execution_count": 28,
   "id": "b90c1e16",
   "metadata": {},
   "outputs": [],
   "source": [
    "DNASEQUENCES=['ATCGA','TTAGC','ACCTAG']"
   ]
  },
  {
   "cell_type": "code",
   "execution_count": 29,
   "id": "233e6c17",
   "metadata": {},
   "outputs": [
    {
     "data": {
      "text/plain": [
       "3"
      ]
     },
     "execution_count": 29,
     "metadata": {},
     "output_type": "execute_result"
    }
   ],
   "source": [
    "len(DNASEQUENCES)"
   ]
  },
  {
   "cell_type": "code",
   "execution_count": 32,
   "id": "973f8294",
   "metadata": {},
   "outputs": [],
   "source": [
    "# create a function that will find the complement of a nucleotide sequence\n",
    "# then reuse the function for all your sequences\n",
    "\n",
    "def sequence_complement_finder(sequence):\n",
    "    base_complements={'A':'T','T':'A','C':'G','G':'C'}\n",
    "    sequence_complement=[base_complements[base] for base in sequence]\n",
    "    sequence_complement=''.join(sequence_complement)\n",
    "    return sequence_complement\n"
   ]
  },
  {
   "cell_type": "code",
   "execution_count": 38,
   "id": "2dbbce95",
   "metadata": {},
   "outputs": [
    {
     "name": "stdout",
     "output_type": "stream",
     "text": [
      "original sequence:   ATCGA\n",
      "sequence complement: TAGCT\n",
      "original sequence:   TTAGC\n",
      "sequence complement: AATCG\n",
      "original sequence:   ACCTAG\n",
      "sequence complement: TGGATC\n"
     ]
    }
   ],
   "source": [
    "# use a 'for' loop to iterate over the list of sequences and find their respective complements\n",
    "\n",
    "for sequence in DNASEQUENCES:\n",
    "    sequence_complement=sequence_complement_finder(sequence)\n",
    "    print('original sequence:  ',sequence)\n",
    "    print('sequence complement:',sequence_complement)\n"
   ]
  },
  {
   "cell_type": "code",
   "execution_count": 42,
   "id": "cca7b7e4",
   "metadata": {},
   "outputs": [],
   "source": [
    "complement_sequences=[]\n",
    "for sequence in DNASEQUENCES:\n",
    "    sequence_complement=sequence_complement_finder(sequence)\n",
    "    complement_sequences.append(sequence_complement)"
   ]
  },
  {
   "cell_type": "code",
   "execution_count": 43,
   "id": "c0f8bdff",
   "metadata": {},
   "outputs": [
    {
     "name": "stdout",
     "output_type": "stream",
     "text": [
      "['TAGCT', 'AATCG', 'TGGATC']\n"
     ]
    }
   ],
   "source": [
    "print(complement_sequences)"
   ]
  },
  {
   "cell_type": "code",
   "execution_count": 48,
   "id": "bf315a7d",
   "metadata": {},
   "outputs": [
    {
     "name": "stdout",
     "output_type": "stream",
     "text": [
      "original:   ['ATCGA', 'TTAGC', 'ACCTAG']\n",
      "complement: ['TAGCT', 'AATCG', 'TGGATC']\n"
     ]
    }
   ],
   "source": [
    "print('original:  ',DNASEQUENCES)\n",
    "print('complement:',complement_sequences)"
   ]
  }
 ],
 "metadata": {
  "kernelspec": {
   "display_name": "Python 3 (ipykernel)",
   "language": "python",
   "name": "python3"
  },
  "language_info": {
   "codemirror_mode": {
    "name": "ipython",
    "version": 3
   },
   "file_extension": ".py",
   "mimetype": "text/x-python",
   "name": "python",
   "nbconvert_exporter": "python",
   "pygments_lexer": "ipython3",
   "version": "3.8.10"
  }
 },
 "nbformat": 4,
 "nbformat_minor": 5
}
