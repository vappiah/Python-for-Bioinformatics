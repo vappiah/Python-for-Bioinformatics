{
 "cells": [
  {
   "cell_type": "markdown",
   "id": "bigger-inflation",
   "metadata": {},
   "source": [
    "# Strings- PART I"
   ]
  },
  {
   "cell_type": "markdown",
   "id": "uniform-paper",
   "metadata": {},
   "source": [
    "* Create a string \n",
    "* Create a dna sequence\n",
    "* Convert dna sequence/string to lower or upper case]\n",
    "* Finds the length of sequence/string object\n",
    "* Check for the presence or absence of characters/nucleotides in a string/sequence\n",
    "* Count the number of nucleotides in a sequence\n",
    "* Combine strings/sequences\n",
    "* Exercise"
   ]
  },
  {
   "cell_type": "markdown",
   "id": "matched-liabilities",
   "metadata": {},
   "source": [
    "### Create a strings/dna sequences"
   ]
  },
  {
   "cell_type": "code",
   "execution_count": 5,
   "id": "chubby-borough",
   "metadata": {},
   "outputs": [
    {
     "name": "stdout",
     "output_type": "stream",
     "text": [
      "b-h computing\n"
     ]
    }
   ],
   "source": [
    "myname=\"b-h computing\"\n",
    "\n",
    "print(myname)"
   ]
  },
  {
   "cell_type": "code",
   "execution_count": 6,
   "id": "listed-turner",
   "metadata": {},
   "outputs": [
    {
     "data": {
      "text/plain": [
       "str"
      ]
     },
     "execution_count": 6,
     "metadata": {},
     "output_type": "execute_result"
    }
   ],
   "source": [
    "type(myname)"
   ]
  },
  {
   "cell_type": "markdown",
   "id": "fancy-applicant",
   "metadata": {},
   "source": [
    "# "
   ]
  },
  {
   "cell_type": "code",
   "execution_count": 8,
   "id": "phantom-colonial",
   "metadata": {},
   "outputs": [
    {
     "name": "stdout",
     "output_type": "stream",
     "text": [
      "AGCTCCGAG\n"
     ]
    }
   ],
   "source": [
    "dna=\"AGCTCCGAG\"\n",
    "print(dna)"
   ]
  },
  {
   "cell_type": "code",
   "execution_count": 9,
   "id": "corporate-policy",
   "metadata": {},
   "outputs": [
    {
     "name": "stdout",
     "output_type": "stream",
     "text": [
      "agtccta\n"
     ]
    }
   ],
   "source": [
    "dna2=\"agtccta\"\n",
    "print(dna2)"
   ]
  },
  {
   "cell_type": "code",
   "execution_count": 10,
   "id": "boolean-prince",
   "metadata": {
    "scrolled": true
   },
   "outputs": [
    {
     "name": "stdout",
     "output_type": "stream",
     "text": [
      "python programming language\n"
     ]
    }
   ],
   "source": [
    "mylanguage=\"python programming language\"\n",
    "print(mylanguage)"
   ]
  },
  {
   "cell_type": "code",
   "execution_count": 11,
   "id": "educational-postage",
   "metadata": {},
   "outputs": [
    {
     "name": "stdout",
     "output_type": "stream",
     "text": [
      "hello world\n"
     ]
    }
   ],
   "source": [
    "print(\"hello world\")"
   ]
  },
  {
   "cell_type": "markdown",
   "id": "biblical-title",
   "metadata": {},
   "source": [
    "### Convert dna sequence to lower or upper case"
   ]
  },
  {
   "cell_type": "code",
   "execution_count": 12,
   "id": "chinese-multimedia",
   "metadata": {},
   "outputs": [
    {
     "name": "stdout",
     "output_type": "stream",
     "text": [
      "agtccta\n"
     ]
    }
   ],
   "source": [
    "print(dna2)"
   ]
  },
  {
   "cell_type": "code",
   "execution_count": 13,
   "id": "desirable-columbia",
   "metadata": {},
   "outputs": [
    {
     "data": {
      "text/plain": [
       "'AGTCCTA'"
      ]
     },
     "execution_count": 13,
     "metadata": {},
     "output_type": "execute_result"
    }
   ],
   "source": [
    "dna2.upper()"
   ]
  },
  {
   "cell_type": "code",
   "execution_count": 14,
   "id": "satellite-wayne",
   "metadata": {},
   "outputs": [
    {
     "name": "stdout",
     "output_type": "stream",
     "text": [
      "AGCTCCGAG\n"
     ]
    }
   ],
   "source": [
    "print(dna)"
   ]
  },
  {
   "cell_type": "code",
   "execution_count": 15,
   "id": "cardiovascular-worthy",
   "metadata": {},
   "outputs": [
    {
     "data": {
      "text/plain": [
       "'agctccgag'"
      ]
     },
     "execution_count": 15,
     "metadata": {},
     "output_type": "execute_result"
    }
   ],
   "source": [
    "dna.lower()"
   ]
  },
  {
   "cell_type": "code",
   "execution_count": 16,
   "id": "happy-boards",
   "metadata": {},
   "outputs": [
    {
     "data": {
      "text/plain": [
       "'b-h computing'"
      ]
     },
     "execution_count": 16,
     "metadata": {},
     "output_type": "execute_result"
    }
   ],
   "source": [
    "myname"
   ]
  },
  {
   "cell_type": "code",
   "execution_count": 17,
   "id": "higher-tobago",
   "metadata": {},
   "outputs": [
    {
     "data": {
      "text/plain": [
       "'B-H COMPUTING'"
      ]
     },
     "execution_count": 17,
     "metadata": {},
     "output_type": "execute_result"
    }
   ],
   "source": [
    "myname.upper()"
   ]
  },
  {
   "cell_type": "code",
   "execution_count": 18,
   "id": "medieval-monkey",
   "metadata": {},
   "outputs": [],
   "source": [
    "dna1=\"AGTCCTAGAAGAGATCCAA\""
   ]
  },
  {
   "cell_type": "code",
   "execution_count": 19,
   "id": "gothic-tenant",
   "metadata": {},
   "outputs": [
    {
     "data": {
      "text/plain": [
       "19"
      ]
     },
     "execution_count": 19,
     "metadata": {},
     "output_type": "execute_result"
    }
   ],
   "source": [
    "len(dna1)"
   ]
  },
  {
   "cell_type": "code",
   "execution_count": 20,
   "id": "french-fraction",
   "metadata": {
    "scrolled": true
   },
   "outputs": [
    {
     "name": "stdout",
     "output_type": "stream",
     "text": [
      "GAGTTCATCCAGATTCGTCATGCCATGGAAAGATCTTCCCGATCTGTACAGTGTGGACGGGACGAGATGCTCAACATGTTTCGTGCACTTGTCTTTATATGGCGTATGTAAATTAGCGTCTACAGCATTGGAATCTATGCGATGGGATCAGATCACAGGCGCCCCGTCAGTCTACATCGTATTACATGTCACGAAACATATGACGTTTTTACCGTAGACATCGAAGGCTCCAGATACGTGCCGTGTGATTGTGCGGGGATACATTTAGAAGTACAGTCGTACTATAAATCAGCCGAATAAAATATTATGTTGATGTCGCGTGACCAAAATAGCTTTAGGGGATCCGTTTCTTCCTACGTTCCGTAATAACAAGACCAGCCGGGATACGTGGTGTGCACGTGATTTAAGGCGCTTCCAGTAGGCCCGAGGTTGTTGCTAGGGTGCGGCACAATCCGCTACT\n"
     ]
    }
   ],
   "source": [
    "dna=\"GAGTTCATCCAGATTCGTCATGCCATGGAAAGATCTTCCCGATCTGTACAGTGTGGACGGGACGAGATGCTCAACATGTTTCGTGCACTTGTCTTTATATGGCGTATGTAAATTAGCGTCTACAGCATTGGAATCTATGCGATGGGATCAGATCACAGGCGCCCCGTCAGTCTACATCGTATTACATGTCACGAAACATATGACGTTTTTACCGTAGACATCGAAGGCTCCAGATACGTGCCGTGTGATTGTGCGGGGATACATTTAGAAGTACAGTCGTACTATAAATCAGCCGAATAAAATATTATGTTGATGTCGCGTGACCAAAATAGCTTTAGGGGATCCGTTTCTTCCTACGTTCCGTAATAACAAGACCAGCCGGGATACGTGGTGTGCACGTGATTTAAGGCGCTTCCAGTAGGCCCGAGGTTGTTGCTAGGGTGCGGCACAATCCGCTACT\"\n",
    "print(dna)"
   ]
  },
  {
   "cell_type": "code",
   "execution_count": 21,
   "id": "expanded-payroll",
   "metadata": {},
   "outputs": [
    {
     "data": {
      "text/plain": [
       "460"
      ]
     },
     "execution_count": 21,
     "metadata": {},
     "output_type": "execute_result"
    }
   ],
   "source": [
    "len(dna)"
   ]
  },
  {
   "cell_type": "code",
   "execution_count": 22,
   "id": "spoken-ghost",
   "metadata": {
    "scrolled": true
   },
   "outputs": [
    {
     "data": {
      "text/plain": [
       "13"
      ]
     },
     "execution_count": 22,
     "metadata": {},
     "output_type": "execute_result"
    }
   ],
   "source": [
    "len(myname)"
   ]
  },
  {
   "cell_type": "code",
   "execution_count": 23,
   "id": "eastern-signal",
   "metadata": {},
   "outputs": [
    {
     "data": {
      "text/plain": [
       "'b-h computing'"
      ]
     },
     "execution_count": 23,
     "metadata": {},
     "output_type": "execute_result"
    }
   ],
   "source": [
    "myname"
   ]
  },
  {
   "cell_type": "markdown",
   "id": "jewish-chrome",
   "metadata": {},
   "source": [
    "### Check for the presence or absence of characters / nucleotides"
   ]
  },
  {
   "cell_type": "code",
   "execution_count": 31,
   "id": "atlantic-howard",
   "metadata": {},
   "outputs": [],
   "source": [
    "dna=\"ATCGGA\"\n"
   ]
  },
  {
   "cell_type": "code",
   "execution_count": 32,
   "id": "wound-consciousness",
   "metadata": {},
   "outputs": [
    {
     "data": {
      "text/plain": [
       "True"
      ]
     },
     "execution_count": 32,
     "metadata": {},
     "output_type": "execute_result"
    }
   ],
   "source": [
    "'A' in dna"
   ]
  },
  {
   "cell_type": "code",
   "execution_count": 33,
   "id": "talented-sperm",
   "metadata": {},
   "outputs": [
    {
     "data": {
      "text/plain": [
       "False"
      ]
     },
     "execution_count": 33,
     "metadata": {},
     "output_type": "execute_result"
    }
   ],
   "source": [
    "'B' in dna"
   ]
  },
  {
   "cell_type": "code",
   "execution_count": 34,
   "id": "parallel-graph",
   "metadata": {},
   "outputs": [
    {
     "data": {
      "text/plain": [
       "False"
      ]
     },
     "execution_count": 34,
     "metadata": {},
     "output_type": "execute_result"
    }
   ],
   "source": [
    "'a' in dna"
   ]
  },
  {
   "cell_type": "code",
   "execution_count": 35,
   "id": "isolated-infection",
   "metadata": {},
   "outputs": [
    {
     "data": {
      "text/plain": [
       "True"
      ]
     },
     "execution_count": 35,
     "metadata": {},
     "output_type": "execute_result"
    }
   ],
   "source": [
    "'AT' in dna"
   ]
  },
  {
   "cell_type": "markdown",
   "id": "signed-nature",
   "metadata": {},
   "source": [
    "### Count the number of nucleotides in a sequence"
   ]
  },
  {
   "cell_type": "code",
   "execution_count": 36,
   "id": "liked-enterprise",
   "metadata": {},
   "outputs": [],
   "source": [
    "dna=\"AGTAGGATCGATTATTATATTAA\""
   ]
  },
  {
   "cell_type": "code",
   "execution_count": 37,
   "id": "imperial-million",
   "metadata": {},
   "outputs": [
    {
     "data": {
      "text/plain": [
       "9"
      ]
     },
     "execution_count": 37,
     "metadata": {},
     "output_type": "execute_result"
    }
   ],
   "source": [
    "dna.count(\"A\")"
   ]
  },
  {
   "cell_type": "code",
   "execution_count": 38,
   "id": "violent-phone",
   "metadata": {},
   "outputs": [],
   "source": [
    "a_count=dna.count(\"A\")\n",
    "c_count=dna.count(\"C\")\n",
    "g_count=dna.count('G')\n",
    "t_count=dna.count('T')\n"
   ]
  },
  {
   "cell_type": "code",
   "execution_count": 39,
   "id": "competitive-broadcast",
   "metadata": {},
   "outputs": [
    {
     "name": "stdout",
     "output_type": "stream",
     "text": [
      "9\n"
     ]
    }
   ],
   "source": [
    "print(a_count)"
   ]
  },
  {
   "cell_type": "code",
   "execution_count": 40,
   "id": "impressive-lyric",
   "metadata": {},
   "outputs": [
    {
     "name": "stdout",
     "output_type": "stream",
     "text": [
      "Number of As= 9\n"
     ]
    }
   ],
   "source": [
    "print(\"Number of As=\",a_count)"
   ]
  },
  {
   "cell_type": "code",
   "execution_count": 41,
   "id": "eleven-colon",
   "metadata": {},
   "outputs": [
    {
     "name": "stdout",
     "output_type": "stream",
     "text": [
      "21.73913043478261\n"
     ]
    }
   ],
   "source": [
    "gc=g_count+c_count\n",
    "length=len(dna)\n",
    "gc_percent=gc/length * 100\n",
    "print(gc_percent)\n"
   ]
  },
  {
   "cell_type": "markdown",
   "id": "organized-fiber",
   "metadata": {},
   "source": [
    "### Combine strings/sequences"
   ]
  },
  {
   "cell_type": "code",
   "execution_count": 42,
   "id": "viral-trademark",
   "metadata": {},
   "outputs": [
    {
     "name": "stdout",
     "output_type": "stream",
     "text": [
      "ATGAGCCG\n"
     ]
    }
   ],
   "source": [
    "dna1='ATGA'\n",
    "dna2='GCCG'\n",
    "\n",
    "combined_sequence=dna1+dna2\n",
    "\n",
    "print(combined_sequence)"
   ]
  },
  {
   "cell_type": "code",
   "execution_count": 43,
   "id": "tutorial-collector",
   "metadata": {},
   "outputs": [
    {
     "name": "stdout",
     "output_type": "stream",
     "text": [
      "PythonLanguage\n"
     ]
    }
   ],
   "source": [
    "firstname='Python'\n",
    "secondname='Language'\n",
    "fullname=firstname+secondname\n",
    "print(fullname)"
   ]
  },
  {
   "cell_type": "code",
   "execution_count": 45,
   "id": "future-fireplace",
   "metadata": {},
   "outputs": [
    {
     "name": "stdout",
     "output_type": "stream",
     "text": [
      "Python Language\n"
     ]
    }
   ],
   "source": [
    "fullname=firstname+' '+secondname\n",
    "print(fullname)"
   ]
  },
  {
   "cell_type": "code",
   "execution_count": 46,
   "id": "fitted-association",
   "metadata": {},
   "outputs": [
    {
     "name": "stdout",
     "output_type": "stream",
     "text": [
      "Python Language\n"
     ]
    }
   ],
   "source": [
    "fullname=\"%s %s\"%(firstname,secondname)\n",
    "print(fullname)"
   ]
  },
  {
   "cell_type": "markdown",
   "id": "cloudy-belize",
   "metadata": {},
   "source": [
    "### More string manipulations ###"
   ]
  },
  {
   "cell_type": "markdown",
   "id": "atlantic-script",
   "metadata": {},
   "source": [
    "| Function|Action \n",
    "| :--- |:---     \n",
    "|string.find('a')|\t  Find the first position where 'a' occurs in the string\n",
    "|string.count('s')|\t  Counts how many 's' characters are in the string\n",
    "|string.lower()|\t  Copy of string with all characters converted to upper case\n",
    "|string.upper() |\t  Copy of string with all characters converted to upper case\n",
    "|string.isdigit()|\t  Checks if string contains only digits. Returns True or False\n",
    "|string.isalpha()|\t  Checks if string contains only alphabets. Returns True or False\n",
    "|string.alnum()\t|  Checks if the string contains alphanumeric characters only. Returns True or False\n",
    "|string.strip()\t|   Strips a character from both sides of the string\n",
    "|string.split()\t|   Splits the string into a list of substrings\n",
    "|string.replace('s','t')|\t   Replaces all 's' in the string with 't'\n",
    "|string.join(list)|\t   Joins all members of list into a single striing object"
   ]
  },
  {
   "cell_type": "markdown",
   "id": "polished-decade",
   "metadata": {},
   "source": [
    "### Exercise ###"
   ]
  },
  {
   "cell_type": "markdown",
   "id": "paperback-music",
   "metadata": {},
   "source": [
    "*Consider the dna sequence, AGTTAGCTAGGAG*\n",
    "* How many nucleotides are present?\n",
    "* Calculate the percentage GC in the sequence.\n",
    "* How many purines are present?\n",
    "* How many pyrimidines are present?\n",
    "* Calculate the percentage of purines in the sequence"
   ]
  }
 ],
 "metadata": {
  "kernelspec": {
   "display_name": "Python 3",
   "language": "python",
   "name": "python3"
  },
  "language_info": {
   "codemirror_mode": {
    "name": "ipython",
    "version": 3
   },
   "file_extension": ".py",
   "mimetype": "text/x-python",
   "name": "python",
   "nbconvert_exporter": "python",
   "pygments_lexer": "ipython3",
   "version": "3.6.9"
  }
 },
 "nbformat": 4,
 "nbformat_minor": 5
}
