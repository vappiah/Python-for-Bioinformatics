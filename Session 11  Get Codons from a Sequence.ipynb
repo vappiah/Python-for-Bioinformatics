{
 "cells": [
  {
   "cell_type": "markdown",
   "id": "funded-checkout",
   "metadata": {},
   "source": [
    "## Python for Bioinformatics- How to get Codons from a Sequence."
   ]
  },
  {
   "cell_type": "code",
   "execution_count": 3,
   "id": "unauthorized-benjamin",
   "metadata": {},
   "outputs": [],
   "source": [
    "sequence=\"AUGGGUAGCCCUAAUACUAGUCCUAAAAAG\""
   ]
  },
  {
   "cell_type": "markdown",
   "id": "3fe59c5d",
   "metadata": {},
   "source": [
    "**Activities**\n",
    "- Write a python code to get the codons. \n",
    "- Count the number of codons present in this sequence.\n",
    "- Count the number of 'CCU's present in the sequence.\n",
    "- Count the number of start codons in the sequence.\n",
    "- Count the number of stop codons in the sequence.\n",
    "- Replace all stop codons with a '*' symbol"
   ]
  },
  {
   "cell_type": "code",
   "execution_count": 4,
   "id": "a8bbfa85",
   "metadata": {},
   "outputs": [],
   "source": [
    "length=len(sequence)"
   ]
  },
  {
   "cell_type": "code",
   "execution_count": 5,
   "id": "9c66d344",
   "metadata": {},
   "outputs": [
    {
     "data": {
      "text/plain": [
       "30"
      ]
     },
     "execution_count": 5,
     "metadata": {},
     "output_type": "execute_result"
    }
   ],
   "source": [
    "length"
   ]
  },
  {
   "cell_type": "code",
   "execution_count": 7,
   "id": "eeae21d3",
   "metadata": {},
   "outputs": [],
   "source": [
    "codons=[]\n",
    "for i in range(0,30,3):\n",
    "    codon=sequence[i:i+3]\n",
    "    codons.append(codon)"
   ]
  },
  {
   "cell_type": "code",
   "execution_count": 8,
   "id": "4e6f2bb7",
   "metadata": {},
   "outputs": [
    {
     "data": {
      "text/plain": [
       "['AUG', 'GGU', 'AGC', 'CCU', 'AAU', 'ACU', 'AGU', 'CCU', 'AAA', 'AAG']"
      ]
     },
     "execution_count": 8,
     "metadata": {},
     "output_type": "execute_result"
    }
   ],
   "source": [
    "codons"
   ]
  },
  {
   "cell_type": "code",
   "execution_count": 10,
   "id": "7ae94b96",
   "metadata": {},
   "outputs": [
    {
     "name": "stdout",
     "output_type": "stream",
     "text": [
      "number of codons is 10\n"
     ]
    }
   ],
   "source": [
    "number_of_codons=len(codons)\n",
    "print('number of codons is %d'%number_of_codons)"
   ]
  },
  {
   "cell_type": "code",
   "execution_count": 11,
   "id": "0356d4bf",
   "metadata": {},
   "outputs": [
    {
     "data": {
      "text/plain": [
       "2"
      ]
     },
     "execution_count": 11,
     "metadata": {},
     "output_type": "execute_result"
    }
   ],
   "source": [
    "#number of 'CCU's\n",
    "codons.count('CCU')"
   ]
  },
  {
   "cell_type": "code",
   "execution_count": 12,
   "id": "368c463a",
   "metadata": {},
   "outputs": [
    {
     "data": {
      "text/plain": [
       "1"
      ]
     },
     "execution_count": 12,
     "metadata": {},
     "output_type": "execute_result"
    }
   ],
   "source": [
    "#number of start codons\n",
    "codons.count('AUG')"
   ]
  },
  {
   "cell_type": "code",
   "execution_count": 13,
   "id": "5eb6c6cb",
   "metadata": {},
   "outputs": [
    {
     "data": {
      "text/plain": [
       "0"
      ]
     },
     "execution_count": 13,
     "metadata": {},
     "output_type": "execute_result"
    }
   ],
   "source": [
    "#number of stop codons\n",
    "codons.count('UAG') + codons.count('UAA') + codons.count('UGA')\n"
   ]
  },
  {
   "cell_type": "code",
   "execution_count": 27,
   "id": "7551ab26",
   "metadata": {},
   "outputs": [],
   "source": [
    "\n",
    "#replace all stop codons with '*'\n",
    "sequence2=\"AUGUAGAGCCCUAAUACUAGUCCUAAAUGA\"\n",
    "\n",
    "codons=[]\n",
    "for i in range(0,30,3):\n",
    "    codon=sequence2[i:i+3]\n",
    "    \n",
    "    if codon=='UAG' or codon=='UAA' or codon=='UGA':\n",
    "        codon='*'\n",
    "        \n",
    "    codons.append(codon)\n",
    "    "
   ]
  },
  {
   "cell_type": "code",
   "execution_count": 28,
   "id": "60767ec1",
   "metadata": {},
   "outputs": [
    {
     "data": {
      "text/plain": [
       "['AUG', '*', 'AGC', 'CCU', 'AAU', 'ACU', 'AGU', 'CCU', 'AAA', '*']"
      ]
     },
     "execution_count": 28,
     "metadata": {},
     "output_type": "execute_result"
    }
   ],
   "source": [
    "codons"
   ]
  },
  {
   "cell_type": "code",
   "execution_count": null,
   "id": "d7fc4149",
   "metadata": {},
   "outputs": [],
   "source": []
  },
  {
   "cell_type": "code",
   "execution_count": 30,
   "id": "c1f3a1fb",
   "metadata": {},
   "outputs": [],
   "source": [
    "#create a function to get codons from a sequence\n",
    "\n",
    "def get_codons(sequence):\n",
    "    codons=[]\n",
    "    length=len(sequence)\n",
    "    for i in range(0,length,3):\n",
    "        codon=sequence[i:i+3]\n",
    "        codons.append(codon)\n",
    "    return codons"
   ]
  },
  {
   "cell_type": "code",
   "execution_count": 32,
   "id": "83fec1a8",
   "metadata": {},
   "outputs": [
    {
     "data": {
      "text/plain": [
       "['AUG', 'GGU', 'AGC', 'CCU', 'AAU', 'ACU', 'AGU', 'CCU', 'AAA', 'AAG']"
      ]
     },
     "execution_count": 32,
     "metadata": {},
     "output_type": "execute_result"
    }
   ],
   "source": [
    "get_codons(\"AUGGGUAGCCCUAAUACUAGUCCUAAAAAG\")"
   ]
  },
  {
   "cell_type": "code",
   "execution_count": 33,
   "id": "e29a382b",
   "metadata": {},
   "outputs": [],
   "source": [
    "sequences=['AUGGUCAAA','AUUUGCCUA','UUCCAAGGG']"
   ]
  },
  {
   "cell_type": "code",
   "execution_count": 35,
   "id": "816ddd40",
   "metadata": {},
   "outputs": [
    {
     "name": "stdout",
     "output_type": "stream",
     "text": [
      "['AUG', 'GUC', 'AAA']\n",
      "['AUU', 'UGC', 'CUA']\n",
      "['UUC', 'CAA', 'GGG']\n"
     ]
    }
   ],
   "source": [
    "for sequence in sequences:\n",
    "    codons=get_codons(sequence)\n",
    "    print(codons)"
   ]
  },
  {
   "cell_type": "code",
   "execution_count": null,
   "id": "c1a32057",
   "metadata": {},
   "outputs": [],
   "source": []
  },
  {
   "cell_type": "code",
   "execution_count": null,
   "id": "d5ed11e6",
   "metadata": {},
   "outputs": [],
   "source": []
  }
 ],
 "metadata": {
  "kernelspec": {
   "display_name": "Python 3 (ipykernel)",
   "language": "python",
   "name": "python3"
  },
  "language_info": {
   "codemirror_mode": {
    "name": "ipython",
    "version": 3
   },
   "file_extension": ".py",
   "mimetype": "text/x-python",
   "name": "python",
   "nbconvert_exporter": "python",
   "pygments_lexer": "ipython3",
   "version": "3.8.10"
  }
 },
 "nbformat": 4,
 "nbformat_minor": 5
}
