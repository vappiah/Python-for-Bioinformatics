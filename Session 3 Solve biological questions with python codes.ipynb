{
 "cells": [
  {
   "cell_type": "markdown",
   "id": "polished-decade",
   "metadata": {},
   "source": [
    "# Exercise #"
   ]
  },
  {
   "cell_type": "markdown",
   "id": "paperback-music",
   "metadata": {},
   "source": [
    "*Consider the dna sequence, AGTTAGCTAGGAG*\n",
    "* How many nucleotides are present?\n",
    "* Calculate the percentage GC in the sequence.\n",
    "* How many purines are present?\n",
    "* How many pyrimidines are present?\n",
    "* Calculate the percentage of purines in the sequence"
   ]
  },
  {
   "cell_type": "code",
   "execution_count": 2,
   "id": "fundamental-grass",
   "metadata": {},
   "outputs": [],
   "source": [
    "dna=\"AGTTAGCTAGGAG\""
   ]
  },
  {
   "cell_type": "code",
   "execution_count": 3,
   "id": "satellite-nickname",
   "metadata": {},
   "outputs": [
    {
     "name": "stdout",
     "output_type": "stream",
     "text": [
      "number of nucleotides is: 13\n"
     ]
    }
   ],
   "source": [
    "#how many nucleotides\n",
    "number_of_nucleotides=len(dna)\n",
    "print(\"number of nucleotides is:\" , number_of_nucleotides)"
   ]
  },
  {
   "cell_type": "code",
   "execution_count": 5,
   "id": "equivalent-worthy",
   "metadata": {},
   "outputs": [
    {
     "name": "stdout",
     "output_type": "stream",
     "text": [
      "percentage gc is: 46.15384615384615\n",
      "percentage gc rounded: 46.15\n"
     ]
    }
   ],
   "source": [
    "gc=dna.count('G')+dna.count('C')\n",
    "length_of_dna=len(dna)\n",
    "gc_percentage=gc/length_of_dna * 100\n",
    "print('percentage gc is:',gc_percentage)\n",
    "\n",
    "gc_rounded=round(gc_percentage,2)\n",
    "print('percentage gc rounded:',gc_rounded)\n"
   ]
  },
  {
   "cell_type": "code",
   "execution_count": 6,
   "id": "ranking-husband",
   "metadata": {},
   "outputs": [
    {
     "name": "stdout",
     "output_type": "stream",
     "text": [
      "number of purines is : 9\n"
     ]
    }
   ],
   "source": [
    "#number of purines\n",
    "purines=dna.count('A')+dna.count('G')\n",
    "print('number of purines is :',purines)"
   ]
  },
  {
   "cell_type": "code",
   "execution_count": 7,
   "id": "removed-facing",
   "metadata": {},
   "outputs": [
    {
     "name": "stdout",
     "output_type": "stream",
     "text": [
      "number of pyrimidines is : 4\n"
     ]
    }
   ],
   "source": [
    "#number of pyrimidines\n",
    "pyrimidines=dna.count('C')+dna.count('T')\n",
    "print('number of pyrimidines is :',pyrimidines)"
   ]
  },
  {
   "cell_type": "code",
   "execution_count": 9,
   "id": "unusual-plymouth",
   "metadata": {},
   "outputs": [
    {
     "name": "stdout",
     "output_type": "stream",
     "text": [
      "percentage purines is: 69.23076923076923\n",
      "percentage purines rounded is: 69.23\n"
     ]
    }
   ],
   "source": [
    "#percentage of purines\n",
    "percentage_purines=purines/length_of_dna *100\n",
    "print(\"percentage purines is:\",percentage_purines)\n",
    "\n",
    "print(\"percentage purines rounded is:\",round(percentage_purines,2))"
   ]
  }
 ],
 "metadata": {
  "kernelspec": {
   "display_name": "Python 3",
   "language": "python",
   "name": "python3"
  },
  "language_info": {
   "codemirror_mode": {
    "name": "ipython",
    "version": 3
   },
   "file_extension": ".py",
   "mimetype": "text/x-python",
   "name": "python",
   "nbconvert_exporter": "python",
   "pygments_lexer": "ipython3",
   "version": "3.6.9"
  }
 },
 "nbformat": 4,
 "nbformat_minor": 5
}
