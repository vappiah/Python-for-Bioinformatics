{
 "cells": [
  {
   "cell_type": "markdown",
   "id": "focused-occurrence",
   "metadata": {},
   "source": [
    "<p style='text-align: center;'> Data types </p>"
   ]
  },
  {
   "cell_type": "code",
   "execution_count": 1,
   "id": "polish-platinum",
   "metadata": {},
   "outputs": [
    {
     "data": {
      "text/html": [
       "<style>\n",
       "    table {\n",
       "        display: inline-block\n",
       "   }\n",
       "</style>\n"
      ],
      "text/plain": [
       "<IPython.core.display.HTML object>"
      ]
     },
     "metadata": {},
     "output_type": "display_data"
    }
   ],
   "source": [
    "%%html\n",
    "<style>\n",
    "    table {\n",
    "        display: inline-block\n",
    "   }\n",
    "</style>"
   ]
  },
  {
   "cell_type": "markdown",
   "id": "amber-fence",
   "metadata": {},
   "source": [
    "**DATA TYPES**"
   ]
  },
  {
   "cell_type": "markdown",
   "id": "sublime-solid",
   "metadata": {},
   "source": [
    "| Type|Name|Example \n",
    "| :--- |:--- |:--- \n",
    "| Integer|int|1, 2, 5 , 10, 21235 \n",
    "| Float|float|0.5, 1.2, 8.0 \n",
    "| Boolean|bool|True, False \n",
    "| String|str|\"DNA\", \"ATCGA\" \n",
    "| List|list|[1,2,3], [\"A\",\"T\",\"C\",\"G\"] \n",
    "| Dictionary|dict|{1:\"A\",2:\"B\"} \n",
    "\n",
    "\n"
   ]
  },
  {
   "cell_type": "markdown",
   "id": "developmental-light",
   "metadata": {},
   "source": [
    "**INTEGERS**"
   ]
  },
  {
   "cell_type": "code",
   "execution_count": 20,
   "id": "loved-waterproof",
   "metadata": {},
   "outputs": [
    {
     "data": {
      "text/plain": [
       "int"
      ]
     },
     "execution_count": 20,
     "metadata": {},
     "output_type": "execute_result"
    }
   ],
   "source": [
    "type(3)"
   ]
  },
  {
   "cell_type": "code",
   "execution_count": 21,
   "id": "persistent-alabama",
   "metadata": {},
   "outputs": [
    {
     "name": "stdout",
     "output_type": "stream",
     "text": [
      "5\n"
     ]
    }
   ],
   "source": [
    "mynumber=5\n",
    "print(mynumber)"
   ]
  },
  {
   "cell_type": "code",
   "execution_count": 23,
   "id": "straight-antique",
   "metadata": {},
   "outputs": [
    {
     "data": {
      "text/plain": [
       "55"
      ]
     },
     "execution_count": 23,
     "metadata": {},
     "output_type": "execute_result"
    }
   ],
   "source": [
    "number1=10\n",
    "number2=45\n",
    "\n",
    "number1+number2"
   ]
  },
  {
   "cell_type": "code",
   "execution_count": 24,
   "id": "arabic-correlation",
   "metadata": {},
   "outputs": [
    {
     "data": {
      "text/plain": [
       "450"
      ]
     },
     "execution_count": 24,
     "metadata": {},
     "output_type": "execute_result"
    }
   ],
   "source": [
    "number1*number2"
   ]
  },
  {
   "cell_type": "code",
   "execution_count": 25,
   "id": "removable-blair",
   "metadata": {},
   "outputs": [
    {
     "data": {
      "text/plain": [
       "4.5"
      ]
     },
     "execution_count": 25,
     "metadata": {},
     "output_type": "execute_result"
    }
   ],
   "source": [
    "number2/number1"
   ]
  },
  {
   "cell_type": "code",
   "execution_count": 26,
   "id": "minimal-metallic",
   "metadata": {},
   "outputs": [
    {
     "data": {
      "text/plain": [
       "35"
      ]
     },
     "execution_count": 26,
     "metadata": {},
     "output_type": "execute_result"
    }
   ],
   "source": [
    "number2-number1"
   ]
  },
  {
   "cell_type": "code",
   "execution_count": 27,
   "id": "hungry-handling",
   "metadata": {},
   "outputs": [],
   "source": [
    "total=6+5"
   ]
  },
  {
   "cell_type": "code",
   "execution_count": 28,
   "id": "vocal-presence",
   "metadata": {},
   "outputs": [
    {
     "name": "stdout",
     "output_type": "stream",
     "text": [
      "11\n"
     ]
    }
   ],
   "source": [
    "print(total)"
   ]
  },
  {
   "cell_type": "markdown",
   "id": "dedicated-telescope",
   "metadata": {},
   "source": [
    "**Float**"
   ]
  },
  {
   "cell_type": "code",
   "execution_count": 29,
   "id": "found-earth",
   "metadata": {},
   "outputs": [
    {
     "data": {
      "text/plain": [
       "float"
      ]
     },
     "execution_count": 29,
     "metadata": {},
     "output_type": "execute_result"
    }
   ],
   "source": [
    "myfloat1=0.9\n",
    "type(myfloat1)"
   ]
  },
  {
   "cell_type": "code",
   "execution_count": 30,
   "id": "cosmetic-bruce",
   "metadata": {},
   "outputs": [
    {
     "data": {
      "text/plain": [
       "11.899999999999999"
      ]
     },
     "execution_count": 30,
     "metadata": {},
     "output_type": "execute_result"
    }
   ],
   "source": [
    "9.1+2.8"
   ]
  },
  {
   "cell_type": "code",
   "execution_count": 32,
   "id": "important-polymer",
   "metadata": {},
   "outputs": [
    {
     "data": {
      "text/plain": [
       "5"
      ]
     },
     "execution_count": 32,
     "metadata": {},
     "output_type": "execute_result"
    }
   ],
   "source": [
    "int(2*2.5)"
   ]
  },
  {
   "cell_type": "code",
   "execution_count": 33,
   "id": "endangered-welcome",
   "metadata": {},
   "outputs": [],
   "source": [
    "myinteger=10\n",
    "myfloat=2.87"
   ]
  },
  {
   "cell_type": "code",
   "execution_count": 34,
   "id": "positive-algorithm",
   "metadata": {},
   "outputs": [
    {
     "data": {
      "text/plain": [
       "10.0"
      ]
     },
     "execution_count": 34,
     "metadata": {},
     "output_type": "execute_result"
    }
   ],
   "source": [
    "float(myinteger)"
   ]
  },
  {
   "cell_type": "code",
   "execution_count": 35,
   "id": "covered-insertion",
   "metadata": {},
   "outputs": [
    {
     "data": {
      "text/plain": [
       "2"
      ]
     },
     "execution_count": 35,
     "metadata": {},
     "output_type": "execute_result"
    }
   ],
   "source": [
    "int(myfloat)"
   ]
  },
  {
   "cell_type": "code",
   "execution_count": null,
   "id": "flying-performance",
   "metadata": {},
   "outputs": [],
   "source": [
    "\"2\" 2"
   ]
  },
  {
   "cell_type": "code",
   "execution_count": 36,
   "id": "virtual-litigation",
   "metadata": {},
   "outputs": [
    {
     "data": {
      "text/plain": [
       "str"
      ]
     },
     "execution_count": 36,
     "metadata": {},
     "output_type": "execute_result"
    }
   ],
   "source": [
    "type(\"2\")"
   ]
  },
  {
   "cell_type": "code",
   "execution_count": 37,
   "id": "biblical-accent",
   "metadata": {},
   "outputs": [
    {
     "data": {
      "text/plain": [
       "int"
      ]
     },
     "execution_count": 37,
     "metadata": {},
     "output_type": "execute_result"
    }
   ],
   "source": [
    "type(2)"
   ]
  },
  {
   "cell_type": "code",
   "execution_count": 38,
   "id": "worldwide-architecture",
   "metadata": {},
   "outputs": [
    {
     "data": {
      "text/plain": [
       "2"
      ]
     },
     "execution_count": 38,
     "metadata": {},
     "output_type": "execute_result"
    }
   ],
   "source": [
    "int(\"2\")"
   ]
  },
  {
   "cell_type": "code",
   "execution_count": 39,
   "id": "alone-calendar",
   "metadata": {},
   "outputs": [
    {
     "data": {
      "text/plain": [
       "0.5"
      ]
     },
     "execution_count": 39,
     "metadata": {},
     "output_type": "execute_result"
    }
   ],
   "source": [
    "float(\"0.5\")"
   ]
  },
  {
   "cell_type": "markdown",
   "id": "timely-ecuador",
   "metadata": {},
   "source": [
    "**Boolean values**"
   ]
  },
  {
   "cell_type": "code",
   "execution_count": 40,
   "id": "spectacular-anaheim",
   "metadata": {},
   "outputs": [
    {
     "data": {
      "text/plain": [
       "bool"
      ]
     },
     "execution_count": 40,
     "metadata": {},
     "output_type": "execute_result"
    }
   ],
   "source": [
    "type(True)\n"
   ]
  },
  {
   "cell_type": "code",
   "execution_count": 41,
   "id": "welsh-quantity",
   "metadata": {},
   "outputs": [
    {
     "data": {
      "text/plain": [
       "bool"
      ]
     },
     "execution_count": 41,
     "metadata": {},
     "output_type": "execute_result"
    }
   ],
   "source": [
    "type(False)"
   ]
  },
  {
   "cell_type": "code",
   "execution_count": 42,
   "id": "overall-worship",
   "metadata": {},
   "outputs": [
    {
     "data": {
      "text/plain": [
       "False"
      ]
     },
     "execution_count": 42,
     "metadata": {},
     "output_type": "execute_result"
    }
   ],
   "source": [
    "bool(0)"
   ]
  },
  {
   "cell_type": "code",
   "execution_count": 43,
   "id": "conditional-punch",
   "metadata": {
    "scrolled": false
   },
   "outputs": [
    {
     "data": {
      "text/plain": [
       "True"
      ]
     },
     "execution_count": 43,
     "metadata": {},
     "output_type": "execute_result"
    }
   ],
   "source": [
    "bool(1)"
   ]
  },
  {
   "cell_type": "markdown",
   "id": "blocked-rover",
   "metadata": {},
   "source": [
    "**Mathematical Operations**"
   ]
  },
  {
   "cell_type": "markdown",
   "id": "intimate-geometry",
   "metadata": {},
   "source": [
    "| Operation|Key| \n",
    "| :--- |:--- |\n",
    "| Addition|+|\n",
    "| Subtraction|-|\n",
    "| Multiplication|*|\n",
    "| Division|/|\n"
   ]
  },
  {
   "cell_type": "code",
   "execution_count": null,
   "id": "perceived-scout",
   "metadata": {},
   "outputs": [],
   "source": []
  },
  {
   "cell_type": "code",
   "execution_count": null,
   "id": "permanent-forge",
   "metadata": {},
   "outputs": [],
   "source": []
  },
  {
   "cell_type": "markdown",
   "id": "changed-medicaid",
   "metadata": {},
   "source": [
    "**Logical Operations**"
   ]
  },
  {
   "cell_type": "markdown",
   "id": "mexican-counter",
   "metadata": {},
   "source": [
    "\n",
    "| Logical operator|Meaning| \n",
    "| :--- |:--- |\n",
    "| <|Less than|\n",
    "| >|Greater than|\n",
    "| <=|Less than or equal to|\n",
    "| >=|Greater than or equal to|\n",
    "| ==|Equal to|\n",
    "| !=|Not equal to|\n"
   ]
  },
  {
   "cell_type": "code",
   "execution_count": 44,
   "id": "flying-hostel",
   "metadata": {},
   "outputs": [],
   "source": [
    "apples=10\n",
    "Oranges=5\n",
    "grapes=5"
   ]
  },
  {
   "cell_type": "code",
   "execution_count": 45,
   "id": "selective-default",
   "metadata": {},
   "outputs": [
    {
     "data": {
      "text/plain": [
       "True"
      ]
     },
     "execution_count": 45,
     "metadata": {},
     "output_type": "execute_result"
    }
   ],
   "source": [
    "#are the number of apples greater than 5?\n",
    "apples>5"
   ]
  },
  {
   "cell_type": "code",
   "execution_count": 46,
   "id": "advance-national",
   "metadata": {},
   "outputs": [
    {
     "data": {
      "text/plain": [
       "True"
      ]
     },
     "execution_count": 46,
     "metadata": {},
     "output_type": "execute_result"
    }
   ],
   "source": [
    "#is the number of grapes equal to the number of oranges?\n",
    "grapes==Oranges"
   ]
  },
  {
   "cell_type": "code",
   "execution_count": 47,
   "id": "dedicated-wednesday",
   "metadata": {},
   "outputs": [
    {
     "data": {
      "text/plain": [
       "True"
      ]
     },
     "execution_count": 47,
     "metadata": {},
     "output_type": "execute_result"
    }
   ],
   "source": [
    "\n",
    "#is the product of 2 and 6 greater or equal to 9?\n",
    "(2*6)>=9"
   ]
  },
  {
   "cell_type": "code",
   "execution_count": 48,
   "id": "removed-clearance",
   "metadata": {},
   "outputs": [
    {
     "data": {
      "text/plain": [
       "False"
      ]
     },
     "execution_count": 48,
     "metadata": {},
     "output_type": "execute_result"
    }
   ],
   "source": [
    "#is the number of apples equal to number of grapes\n",
    "apples==grapes"
   ]
  }
 ],
 "metadata": {
  "kernelspec": {
   "display_name": "Python 3",
   "language": "python",
   "name": "python3"
  },
  "language_info": {
   "codemirror_mode": {
    "name": "ipython",
    "version": 3
   },
   "file_extension": ".py",
   "mimetype": "text/x-python",
   "name": "python",
   "nbconvert_exporter": "python",
   "pygments_lexer": "ipython3",
   "version": "3.6.9"
  }
 },
 "nbformat": 4,
 "nbformat_minor": 5
}
