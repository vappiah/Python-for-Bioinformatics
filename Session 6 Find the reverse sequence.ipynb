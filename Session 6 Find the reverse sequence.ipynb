{
 "cells": [
  {
   "cell_type": "markdown",
   "id": "empirical-baghdad",
   "metadata": {},
   "source": [
    "## How to write the reverse of a sequence ###"
   ]
  },
  {
   "cell_type": "code",
   "execution_count": null,
   "id": "flying-peace",
   "metadata": {},
   "outputs": [],
   "source": []
  },
  {
   "cell_type": "markdown",
   "id": "cutting-gardening",
   "metadata": {},
   "source": [
    "### Case 1: When the sequence is a string"
   ]
  },
  {
   "cell_type": "code",
   "execution_count": null,
   "id": "equivalent-footage",
   "metadata": {},
   "outputs": [],
   "source": [
    "# Use slicing"
   ]
  },
  {
   "cell_type": "code",
   "execution_count": null,
   "id": "noted-ability",
   "metadata": {},
   "outputs": [],
   "source": [
    "DNA1=\"ATCTAGAGGATATAC\""
   ]
  },
  {
   "cell_type": "code",
   "execution_count": null,
   "id": "metric-conviction",
   "metadata": {},
   "outputs": [],
   "source": [
    "DNA1[::-1]"
   ]
  },
  {
   "cell_type": "code",
   "execution_count": null,
   "id": "italian-legislature",
   "metadata": {},
   "outputs": [],
   "source": [
    "reverse_sequence=DNA1[::-1]"
   ]
  },
  {
   "cell_type": "code",
   "execution_count": null,
   "id": "8d148823",
   "metadata": {},
   "outputs": [],
   "source": [
    "print(reverse_sequence)"
   ]
  },
  {
   "cell_type": "code",
   "execution_count": null,
   "id": "signal-range",
   "metadata": {},
   "outputs": [],
   "source": [
    "print(DNA1)\n",
    "print(reverse_sequence)"
   ]
  },
  {
   "cell_type": "markdown",
   "id": "macro-lambda",
   "metadata": {},
   "source": [
    "### Case 2: When dealing with a list data type"
   ]
  },
  {
   "cell_type": "code",
   "execution_count": null,
   "id": "dress-wyoming",
   "metadata": {},
   "outputs": [],
   "source": [
    "# Approach 1\n",
    "# convert list to a string and find reverse using slicing"
   ]
  },
  {
   "cell_type": "code",
   "execution_count": null,
   "id": "fitted-halifax",
   "metadata": {},
   "outputs": [],
   "source": [
    "DNA2=['A','T','C','T','A','G','A','G','G','A','T','A','T', 'A','C']"
   ]
  },
  {
   "cell_type": "code",
   "execution_count": null,
   "id": "measured-spirituality",
   "metadata": {},
   "outputs": [],
   "source": [
    "forward_sequence=''.join(DNA2)"
   ]
  },
  {
   "cell_type": "code",
   "execution_count": null,
   "id": "blocked-editing",
   "metadata": {},
   "outputs": [],
   "source": [
    "print(forward_sequence)"
   ]
  },
  {
   "cell_type": "code",
   "execution_count": null,
   "id": "respected-polyester",
   "metadata": {},
   "outputs": [],
   "source": [
    "reverse_sequence=forward_sequence[::-1]"
   ]
  },
  {
   "cell_type": "code",
   "execution_count": null,
   "id": "stretch-generation",
   "metadata": {},
   "outputs": [],
   "source": [
    "print(reverse_sequence)"
   ]
  },
  {
   "cell_type": "code",
   "execution_count": null,
   "id": "disciplinary-lawrence",
   "metadata": {},
   "outputs": [],
   "source": [
    "print(forward_sequence)\n",
    "print(reverse_sequence)"
   ]
  },
  {
   "cell_type": "code",
   "execution_count": null,
   "id": "mechanical-prevention",
   "metadata": {},
   "outputs": [],
   "source": []
  },
  {
   "cell_type": "code",
   "execution_count": null,
   "id": "protecting-venezuela",
   "metadata": {},
   "outputs": [],
   "source": [
    "# Approach 2\n",
    "# Use list slicing and convert to a string"
   ]
  },
  {
   "cell_type": "code",
   "execution_count": null,
   "id": "young-trouble",
   "metadata": {},
   "outputs": [],
   "source": [
    "DNA2=['A','T','C','T','A','G','A','G','G','A','T','A','T', 'A','C']"
   ]
  },
  {
   "cell_type": "code",
   "execution_count": null,
   "id": "linear-feeling",
   "metadata": {},
   "outputs": [],
   "source": [
    "reverse_sequence=DNA2[::-1]"
   ]
  },
  {
   "cell_type": "code",
   "execution_count": null,
   "id": "incorporated-crowd",
   "metadata": {},
   "outputs": [],
   "source": [
    "print(reverse_sequence)"
   ]
  },
  {
   "cell_type": "code",
   "execution_count": null,
   "id": "prostate-armor",
   "metadata": {},
   "outputs": [],
   "source": [
    "reverse_sequence=''.join(reverse_sequence)"
   ]
  },
  {
   "cell_type": "code",
   "execution_count": null,
   "id": "cognitive-messaging",
   "metadata": {},
   "outputs": [],
   "source": [
    "print(reverse_sequence)"
   ]
  },
  {
   "cell_type": "code",
   "execution_count": null,
   "id": "gorgeous-decimal",
   "metadata": {},
   "outputs": [],
   "source": [
    "print(''.join(DNA2))\n",
    "print(reverse_sequence)"
   ]
  },
  {
   "cell_type": "code",
   "execution_count": null,
   "id": "interested-lawrence",
   "metadata": {},
   "outputs": [],
   "source": []
  },
  {
   "cell_type": "code",
   "execution_count": null,
   "id": "serial-nursing",
   "metadata": {},
   "outputs": [],
   "source": [
    "# Approach 3\n",
    "# Apply reverse_method on the list and convert the list to a string"
   ]
  },
  {
   "cell_type": "code",
   "execution_count": null,
   "id": "oriented-lambda",
   "metadata": {},
   "outputs": [],
   "source": [
    "DNA2=['A','T','C','T','A','G','A','G','G','A','T','A','T', 'A','C']"
   ]
  },
  {
   "cell_type": "code",
   "execution_count": null,
   "id": "historical-custom",
   "metadata": {},
   "outputs": [],
   "source": [
    "# make a copy of the DNA2 list\n",
    "\n",
    "sequence_copy=[]\n",
    "sequence_copy.extend(DNA2)"
   ]
  },
  {
   "cell_type": "code",
   "execution_count": null,
   "id": "fifth-bulletin",
   "metadata": {},
   "outputs": [],
   "source": [
    "print(sequence_copy)"
   ]
  },
  {
   "cell_type": "code",
   "execution_count": null,
   "id": "civil-detection",
   "metadata": {},
   "outputs": [],
   "source": [
    "# reverse method on a list\n",
    "sequence_copy.reverse()"
   ]
  },
  {
   "cell_type": "code",
   "execution_count": null,
   "id": "married-lobby",
   "metadata": {},
   "outputs": [],
   "source": [
    "print(sequence_copy)"
   ]
  },
  {
   "cell_type": "code",
   "execution_count": null,
   "id": "english-drinking",
   "metadata": {},
   "outputs": [],
   "source": [
    "reverse_sequence=''.join(sequence_copy)"
   ]
  },
  {
   "cell_type": "code",
   "execution_count": null,
   "id": "mighty-tongue",
   "metadata": {},
   "outputs": [],
   "source": [
    "print(reverse_sequence)"
   ]
  },
  {
   "cell_type": "code",
   "execution_count": null,
   "id": "chinese-breathing",
   "metadata": {
    "scrolled": true
   },
   "outputs": [],
   "source": [
    "print(''.join(DNA2))\n",
    "print(reverse_sequence)"
   ]
  },
  {
   "cell_type": "code",
   "execution_count": null,
   "id": "scheduled-explanation",
   "metadata": {},
   "outputs": [],
   "source": []
  }
 ],
 "metadata": {
  "kernelspec": {
   "display_name": "Python 3 (ipykernel)",
   "language": "python",
   "name": "python3"
  },
  "language_info": {
   "codemirror_mode": {
    "name": "ipython",
    "version": 3
   },
   "file_extension": ".py",
   "mimetype": "text/x-python",
   "name": "python",
   "nbconvert_exporter": "python",
   "pygments_lexer": "ipython3",
   "version": "3.8.10"
  }
 },
 "nbformat": 4,
 "nbformat_minor": 5
}
