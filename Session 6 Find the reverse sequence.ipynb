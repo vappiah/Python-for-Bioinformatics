{
 "cells": [
  {
   "cell_type": "markdown",
   "id": "empirical-baghdad",
   "metadata": {},
   "source": [
    "## How to write the reverse of a sequence ###"
   ]
  },
  {
   "cell_type": "code",
   "execution_count": null,
   "id": "flying-peace",
   "metadata": {},
   "outputs": [],
   "source": []
  },
  {
   "cell_type": "code",
   "execution_count": null,
   "id": "royal-immune",
   "metadata": {},
   "outputs": [],
   "source": []
  },
  {
   "cell_type": "markdown",
   "id": "cutting-gardening",
   "metadata": {},
   "source": [
    "### Case 1: When the sequence is a string"
   ]
  },
  {
   "cell_type": "code",
   "execution_count": null,
   "id": "equivalent-footage",
   "metadata": {},
   "outputs": [],
   "source": [
    "# Use slicing"
   ]
  },
  {
   "cell_type": "code",
   "execution_count": 2,
   "id": "noted-ability",
   "metadata": {},
   "outputs": [],
   "source": [
    "DNA1=\"ATCTAGAGGATATAC\""
   ]
  },
  {
   "cell_type": "code",
   "execution_count": 3,
   "id": "metric-conviction",
   "metadata": {},
   "outputs": [
    {
     "data": {
      "text/plain": [
       "'CATATAGGAGATCTA'"
      ]
     },
     "execution_count": 3,
     "metadata": {},
     "output_type": "execute_result"
    }
   ],
   "source": [
    "DNA1[::-1]"
   ]
  },
  {
   "cell_type": "code",
   "execution_count": 4,
   "id": "italian-legislature",
   "metadata": {},
   "outputs": [],
   "source": [
    "reverse_sequence=DNA1[::-1]"
   ]
  },
  {
   "cell_type": "code",
   "execution_count": 5,
   "id": "sporting-classroom",
   "metadata": {},
   "outputs": [
    {
     "name": "stdout",
     "output_type": "stream",
     "text": [
      "CATATAGGAGATCTA\n"
     ]
    }
   ],
   "source": [
    "print(reverse_sequence)"
   ]
  },
  {
   "cell_type": "code",
   "execution_count": 6,
   "id": "signal-range",
   "metadata": {},
   "outputs": [
    {
     "name": "stdout",
     "output_type": "stream",
     "text": [
      "ATCTAGAGGATATAC\n",
      "CATATAGGAGATCTA\n"
     ]
    }
   ],
   "source": [
    "print(DNA1)\n",
    "print(reverse_sequence)"
   ]
  },
  {
   "cell_type": "code",
   "execution_count": null,
   "id": "breeding-williams",
   "metadata": {},
   "outputs": [],
   "source": []
  },
  {
   "cell_type": "code",
   "execution_count": null,
   "id": "invisible-incentive",
   "metadata": {},
   "outputs": [],
   "source": []
  },
  {
   "cell_type": "code",
   "execution_count": null,
   "id": "continental-florist",
   "metadata": {},
   "outputs": [],
   "source": []
  },
  {
   "cell_type": "code",
   "execution_count": null,
   "id": "magnetic-evolution",
   "metadata": {},
   "outputs": [],
   "source": []
  },
  {
   "cell_type": "code",
   "execution_count": null,
   "id": "portuguese-carnival",
   "metadata": {},
   "outputs": [],
   "source": []
  },
  {
   "cell_type": "code",
   "execution_count": null,
   "id": "sexual-platform",
   "metadata": {},
   "outputs": [],
   "source": []
  },
  {
   "cell_type": "code",
   "execution_count": null,
   "id": "effective-digit",
   "metadata": {},
   "outputs": [],
   "source": [
    "# Use slicing"
   ]
  },
  {
   "cell_type": "code",
   "execution_count": null,
   "id": "bridal-pregnancy",
   "metadata": {},
   "outputs": [],
   "source": []
  },
  {
   "cell_type": "code",
   "execution_count": null,
   "id": "placed-uganda",
   "metadata": {},
   "outputs": [],
   "source": []
  },
  {
   "cell_type": "code",
   "execution_count": null,
   "id": "excessive-breakdown",
   "metadata": {},
   "outputs": [],
   "source": []
  },
  {
   "cell_type": "markdown",
   "id": "macro-lambda",
   "metadata": {},
   "source": [
    "### Case 2: When dealing with a list data type"
   ]
  },
  {
   "cell_type": "code",
   "execution_count": null,
   "id": "dress-wyoming",
   "metadata": {},
   "outputs": [],
   "source": [
    "# Approach 1\n",
    "# convert list to a string and find reverse using slicing"
   ]
  },
  {
   "cell_type": "code",
   "execution_count": 7,
   "id": "fitted-halifax",
   "metadata": {},
   "outputs": [],
   "source": [
    "DNA2=['A','T','C','T','A','G','A','G','G','A','T','A','T', 'A','C']"
   ]
  },
  {
   "cell_type": "code",
   "execution_count": 9,
   "id": "measured-spirituality",
   "metadata": {},
   "outputs": [],
   "source": [
    "forward_sequence=''.join(DNA2)"
   ]
  },
  {
   "cell_type": "code",
   "execution_count": 10,
   "id": "blocked-editing",
   "metadata": {},
   "outputs": [
    {
     "name": "stdout",
     "output_type": "stream",
     "text": [
      "ATCTAGAGGATATAC\n"
     ]
    }
   ],
   "source": [
    "print(forward_sequence)"
   ]
  },
  {
   "cell_type": "code",
   "execution_count": 11,
   "id": "respected-polyester",
   "metadata": {},
   "outputs": [],
   "source": [
    "reverse_sequence=forward_sequence[::-1]"
   ]
  },
  {
   "cell_type": "code",
   "execution_count": 12,
   "id": "stretch-generation",
   "metadata": {},
   "outputs": [
    {
     "name": "stdout",
     "output_type": "stream",
     "text": [
      "CATATAGGAGATCTA\n"
     ]
    }
   ],
   "source": [
    "print(reverse_sequence)"
   ]
  },
  {
   "cell_type": "code",
   "execution_count": 13,
   "id": "disciplinary-lawrence",
   "metadata": {},
   "outputs": [
    {
     "name": "stdout",
     "output_type": "stream",
     "text": [
      "ATCTAGAGGATATAC\n",
      "CATATAGGAGATCTA\n"
     ]
    }
   ],
   "source": [
    "print(forward_sequence)\n",
    "print(reverse_sequence)"
   ]
  },
  {
   "cell_type": "code",
   "execution_count": null,
   "id": "mechanical-prevention",
   "metadata": {},
   "outputs": [],
   "source": []
  },
  {
   "cell_type": "code",
   "execution_count": null,
   "id": "protecting-venezuela",
   "metadata": {},
   "outputs": [],
   "source": [
    "# Approach 2\n",
    "# Use list slicing and convert to a string"
   ]
  },
  {
   "cell_type": "code",
   "execution_count": 14,
   "id": "young-trouble",
   "metadata": {},
   "outputs": [],
   "source": [
    "DNA2=['A','T','C','T','A','G','A','G','G','A','T','A','T', 'A','C']"
   ]
  },
  {
   "cell_type": "code",
   "execution_count": 15,
   "id": "linear-feeling",
   "metadata": {},
   "outputs": [],
   "source": [
    "reverse_sequence=DNA2[::-1]"
   ]
  },
  {
   "cell_type": "code",
   "execution_count": 16,
   "id": "incorporated-crowd",
   "metadata": {},
   "outputs": [
    {
     "name": "stdout",
     "output_type": "stream",
     "text": [
      "['C', 'A', 'T', 'A', 'T', 'A', 'G', 'G', 'A', 'G', 'A', 'T', 'C', 'T', 'A']\n"
     ]
    }
   ],
   "source": [
    "print(reverse_sequence)"
   ]
  },
  {
   "cell_type": "code",
   "execution_count": 17,
   "id": "prostate-armor",
   "metadata": {},
   "outputs": [],
   "source": [
    "reverse_sequence=''.join(reverse_sequence)"
   ]
  },
  {
   "cell_type": "code",
   "execution_count": 18,
   "id": "cognitive-messaging",
   "metadata": {},
   "outputs": [
    {
     "name": "stdout",
     "output_type": "stream",
     "text": [
      "CATATAGGAGATCTA\n"
     ]
    }
   ],
   "source": [
    "print(reverse_sequence)"
   ]
  },
  {
   "cell_type": "code",
   "execution_count": 19,
   "id": "gorgeous-decimal",
   "metadata": {},
   "outputs": [
    {
     "name": "stdout",
     "output_type": "stream",
     "text": [
      "ATCTAGAGGATATAC\n",
      "CATATAGGAGATCTA\n"
     ]
    }
   ],
   "source": [
    "print(''.join(DNA2))\n",
    "print(reverse_sequence)"
   ]
  },
  {
   "cell_type": "code",
   "execution_count": null,
   "id": "interested-lawrence",
   "metadata": {},
   "outputs": [],
   "source": []
  },
  {
   "cell_type": "code",
   "execution_count": null,
   "id": "serial-nursing",
   "metadata": {},
   "outputs": [],
   "source": [
    "# Approach 3\n",
    "# Apply reverse_method on the list and convert the list to a string"
   ]
  },
  {
   "cell_type": "code",
   "execution_count": 20,
   "id": "oriented-lambda",
   "metadata": {},
   "outputs": [],
   "source": [
    "DNA2=['A','T','C','T','A','G','A','G','G','A','T','A','T', 'A','C']"
   ]
  },
  {
   "cell_type": "code",
   "execution_count": 21,
   "id": "historical-custom",
   "metadata": {},
   "outputs": [],
   "source": [
    "# make a copy of the DNA2 list\n",
    "\n",
    "sequence_copy=[]\n",
    "sequence_copy.extend(DNA2)"
   ]
  },
  {
   "cell_type": "code",
   "execution_count": 22,
   "id": "fifth-bulletin",
   "metadata": {},
   "outputs": [
    {
     "name": "stdout",
     "output_type": "stream",
     "text": [
      "['A', 'T', 'C', 'T', 'A', 'G', 'A', 'G', 'G', 'A', 'T', 'A', 'T', 'A', 'C']\n"
     ]
    }
   ],
   "source": [
    "print(sequence_copy)"
   ]
  },
  {
   "cell_type": "code",
   "execution_count": 23,
   "id": "civil-detection",
   "metadata": {},
   "outputs": [],
   "source": [
    "# reverse method on a list\n",
    "sequence_copy.reverse()"
   ]
  },
  {
   "cell_type": "code",
   "execution_count": 24,
   "id": "married-lobby",
   "metadata": {},
   "outputs": [
    {
     "name": "stdout",
     "output_type": "stream",
     "text": [
      "['C', 'A', 'T', 'A', 'T', 'A', 'G', 'G', 'A', 'G', 'A', 'T', 'C', 'T', 'A']\n"
     ]
    }
   ],
   "source": [
    "print(sequence_copy)"
   ]
  },
  {
   "cell_type": "code",
   "execution_count": 25,
   "id": "english-drinking",
   "metadata": {},
   "outputs": [],
   "source": [
    "reverse_sequence=''.join(sequence_copy)"
   ]
  },
  {
   "cell_type": "code",
   "execution_count": 26,
   "id": "mighty-tongue",
   "metadata": {},
   "outputs": [
    {
     "name": "stdout",
     "output_type": "stream",
     "text": [
      "CATATAGGAGATCTA\n"
     ]
    }
   ],
   "source": [
    "print(reverse_sequence)"
   ]
  },
  {
   "cell_type": "code",
   "execution_count": 27,
   "id": "chinese-breathing",
   "metadata": {},
   "outputs": [
    {
     "name": "stdout",
     "output_type": "stream",
     "text": [
      "ATCTAGAGGATATAC\n",
      "CATATAGGAGATCTA\n"
     ]
    }
   ],
   "source": [
    "print(''.join(DNA2))\n",
    "print(reverse_sequence)"
   ]
  },
  {
   "cell_type": "code",
   "execution_count": null,
   "id": "scheduled-explanation",
   "metadata": {},
   "outputs": [],
   "source": []
  }
 ],
 "metadata": {
  "kernelspec": {
   "display_name": "Python 3",
   "language": "python",
   "name": "python3"
  },
  "language_info": {
   "codemirror_mode": {
    "name": "ipython",
    "version": 3
   },
   "file_extension": ".py",
   "mimetype": "text/x-python",
   "name": "python",
   "nbconvert_exporter": "python",
   "pygments_lexer": "ipython3",
   "version": "3.6.9"
  }
 },
 "nbformat": 4,
 "nbformat_minor": 5
}
