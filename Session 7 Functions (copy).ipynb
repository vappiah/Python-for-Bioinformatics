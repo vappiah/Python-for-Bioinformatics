{
 "cells": [
  {
   "cell_type": "markdown",
   "id": "wanted-kenya",
   "metadata": {},
   "source": [
    "# Repeat programming tasks using Functions"
   ]
  },
  {
   "cell_type": "markdown",
   "id": "polished-decade",
   "metadata": {},
   "source": [
    "## What are functions ?\n",
    "- Enables a set of instructions or operations to be repeated multiple times\n",
    "- Functions enable codes to be re-used many times without having to copy them.\n",
    "- If there is a need to make changes in a code, it only needs to be done at one place.\n",
    "- Functions enable codes to be re-used in multiple programs.\n",
    "- Functions ena ble us to split larger problems into smaller and more manageable ones. \n",
    "- Functions enable us to better organize and manage our codes."
   ]
  },
  {
   "cell_type": "code",
   "execution_count": null,
   "id": "dying-porter",
   "metadata": {},
   "outputs": [],
   "source": [
    "#Calculating percentage GC of a sequence\n",
    "\n",
    "dna=\"AGTTAGCTAGGAG\"\n",
    "gc=dna.count('G')+dna.count('C')\n",
    "length_of_dna=len(dna)\n",
    "gc_percentage=gc/length_of_dna * 100\n",
    "print('percentage gc is:',gc_percentage)\n",
    "\n",
    "gc_rounded=round(gc_percentage,2)\n",
    "print('percentage gc rounded:',gc_rounded)\n"
   ]
  },
  {
   "cell_type": "code",
   "execution_count": null,
   "id": "commercial-question",
   "metadata": {},
   "outputs": [],
   "source": []
  },
  {
   "cell_type": "code",
   "execution_count": null,
   "id": "distant-kidney",
   "metadata": {},
   "outputs": [],
   "source": []
  },
  {
   "cell_type": "code",
   "execution_count": null,
   "id": "mexican-reconstruction",
   "metadata": {},
   "outputs": [],
   "source": []
  },
  {
   "cell_type": "markdown",
   "id": "freelance-malaysia",
   "metadata": {},
   "source": [
    "### How to create a function ###"
   ]
  },
  {
   "cell_type": "markdown",
   "id": "sufficient-savannah",
   "metadata": {},
   "source": [
    "- First line\n",
    "    - Declare the function by using the keyword **def**. This is followed by the **function name** and then a parenthesis\n",
    "    - Parameters maybe added to the function:If adding parameters they should be within the parentheses of the function. \n",
    "    - End the line with a colon.\n",
    "- Subsequent lines will contain statements that the functions should execute.\n",
    "- When expecting the function to generate an output, a return is used to end the function\n"
   ]
  },
  {
   "cell_type": "code",
   "execution_count": null,
   "id": "alone-island",
   "metadata": {},
   "outputs": [],
   "source": []
  },
  {
   "cell_type": "code",
   "execution_count": null,
   "id": "critical-radio",
   "metadata": {},
   "outputs": [],
   "source": []
  },
  {
   "cell_type": "code",
   "execution_count": null,
   "id": "auburn-night",
   "metadata": {},
   "outputs": [],
   "source": []
  },
  {
   "cell_type": "code",
   "execution_count": null,
   "id": "nasty-yeast",
   "metadata": {},
   "outputs": [],
   "source": []
  },
  {
   "cell_type": "code",
   "execution_count": null,
   "id": "obvious-cuisine",
   "metadata": {},
   "outputs": [],
   "source": []
  },
  {
   "cell_type": "code",
   "execution_count": null,
   "id": "nasty-survival",
   "metadata": {},
   "outputs": [],
   "source": []
  },
  {
   "cell_type": "code",
   "execution_count": null,
   "id": "regulation-newspaper",
   "metadata": {},
   "outputs": [],
   "source": []
  },
  {
   "cell_type": "code",
   "execution_count": null,
   "id": "statewide-vacuum",
   "metadata": {},
   "outputs": [],
   "source": []
  },
  {
   "cell_type": "code",
   "execution_count": null,
   "id": "opened-slave",
   "metadata": {},
   "outputs": [],
   "source": []
  },
  {
   "cell_type": "code",
   "execution_count": null,
   "id": "designing-flexibility",
   "metadata": {},
   "outputs": [],
   "source": []
  },
  {
   "cell_type": "code",
   "execution_count": null,
   "id": "premium-service",
   "metadata": {},
   "outputs": [],
   "source": []
  },
  {
   "cell_type": "code",
   "execution_count": null,
   "id": "material-illinois",
   "metadata": {},
   "outputs": [],
   "source": []
  },
  {
   "cell_type": "code",
   "execution_count": null,
   "id": "cathedral-capacity",
   "metadata": {},
   "outputs": [],
   "source": []
  },
  {
   "cell_type": "code",
   "execution_count": null,
   "id": "fourth-logistics",
   "metadata": {},
   "outputs": [],
   "source": []
  },
  {
   "cell_type": "code",
   "execution_count": null,
   "id": "overhead-trance",
   "metadata": {},
   "outputs": [],
   "source": []
  },
  {
   "cell_type": "code",
   "execution_count": null,
   "id": "pending-recommendation",
   "metadata": {},
   "outputs": [],
   "source": []
  },
  {
   "cell_type": "code",
   "execution_count": null,
   "id": "bearing-metro",
   "metadata": {},
   "outputs": [],
   "source": []
  },
  {
   "cell_type": "code",
   "execution_count": null,
   "id": "active-think",
   "metadata": {},
   "outputs": [],
   "source": []
  },
  {
   "cell_type": "code",
   "execution_count": null,
   "id": "adequate-launch",
   "metadata": {},
   "outputs": [],
   "source": []
  },
  {
   "cell_type": "code",
   "execution_count": null,
   "id": "atlantic-slave",
   "metadata": {},
   "outputs": [],
   "source": []
  },
  {
   "cell_type": "code",
   "execution_count": null,
   "id": "characteristic-witness",
   "metadata": {},
   "outputs": [],
   "source": []
  },
  {
   "cell_type": "code",
   "execution_count": null,
   "id": "metallic-democracy",
   "metadata": {},
   "outputs": [],
   "source": []
  },
  {
   "cell_type": "code",
   "execution_count": null,
   "id": "acknowledged-minister",
   "metadata": {},
   "outputs": [],
   "source": []
  },
  {
   "cell_type": "code",
   "execution_count": null,
   "id": "entitled-project",
   "metadata": {},
   "outputs": [],
   "source": []
  },
  {
   "cell_type": "code",
   "execution_count": null,
   "id": "tender-savings",
   "metadata": {},
   "outputs": [],
   "source": []
  },
  {
   "cell_type": "code",
   "execution_count": null,
   "id": "champion-highland",
   "metadata": {},
   "outputs": [],
   "source": []
  },
  {
   "cell_type": "code",
   "execution_count": null,
   "id": "african-malpractice",
   "metadata": {},
   "outputs": [],
   "source": []
  },
  {
   "cell_type": "code",
   "execution_count": null,
   "id": "opening-appliance",
   "metadata": {},
   "outputs": [],
   "source": []
  },
  {
   "cell_type": "code",
   "execution_count": 2,
   "id": "fundamental-grass",
   "metadata": {},
   "outputs": [],
   "source": []
  },
  {
   "cell_type": "code",
   "execution_count": null,
   "id": "working-syndrome",
   "metadata": {},
   "outputs": [],
   "source": []
  },
  {
   "cell_type": "code",
   "execution_count": null,
   "id": "equivalent-worthy",
   "metadata": {},
   "outputs": [],
   "source": [
    "#Repeat the above task using a function\n"
   ]
  },
  {
   "cell_type": "code",
   "execution_count": null,
   "id": "representative-honey",
   "metadata": {},
   "outputs": [],
   "source": [
    "def percentage_gc():\n",
    "dna=\"AGTTAGCTAGGAG\"\n",
    "gc=dna.count('G')+dna.count('C')\n",
    "length_of_dna=len(dna)\n",
    "gc_percentage=gc/length_of_dna * 100\n",
    "print('percentage gc is:',gc_percentage)\n",
    "gc_rounded=round(gc_percentage,2)\n",
    "print('percentage gc rounded:',gc_rounded)\n"
   ]
  },
  {
   "cell_type": "code",
   "execution_count": null,
   "id": "broken-flood",
   "metadata": {},
   "outputs": [],
   "source": [
    "#accessing the gc percentage value outside the function\n",
    "def percentage_gc():\n",
    "dna=\"AGTTAGCTAGGAG\"\n",
    "gc=dna.count('G')+dna.count('C')\n",
    "length_of_dna=len(dna)\n",
    "gc_percenta\n",
    "ge=gc/length_of_dna * 100\n",
    "print('percentage gc is:',gc_percentage)\n",
    "gc_rounded=round(gc_percentage,2)\n",
    "return gc_rounded\n",
    "\n",
    "\n",
    "gc=percentage_gc()\n",
    "\n",
    "\n",
    "\n",
    "applying this function on a different sequence.\n",
    "this can be done by adding parameters in the function\n",
    "\n",
    "\n",
    "def percentage_gc(seq):\n",
    "    dna=seq\n",
    "    gc=dna.count('G')+dna.count('C')\n",
    "    length_of_dna=len(dna)\n",
    "    gc_percentage=gc/length_of_dna * 100\n",
    "    gc_rounded=round(gc_percentage,2)\n",
    "    return gc_rounded\n",
    "\n",
    "\n"
   ]
  },
  {
   "cell_type": "code",
   "execution_count": null,
   "id": "digital-montgomery",
   "metadata": {},
   "outputs": [],
   "source": []
  }
 ],
 "metadata": {
  "kernelspec": {
   "display_name": "Python 3",
   "language": "python",
   "name": "python3"
  },
  "language_info": {
   "codemirror_mode": {
    "name": "ipython",
    "version": 3
   },
   "file_extension": ".py",
   "mimetype": "text/x-python",
   "name": "python",
   "nbconvert_exporter": "python",
   "pygments_lexer": "ipython3",
   "version": "3.6.9"
  }
 },
 "nbformat": 4,
 "nbformat_minor": 5
}
