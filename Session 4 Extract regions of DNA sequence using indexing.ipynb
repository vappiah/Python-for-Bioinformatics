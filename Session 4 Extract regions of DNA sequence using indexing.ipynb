{
 "cells": [
  {
   "cell_type": "markdown",
   "id": "presidential-driving",
   "metadata": {},
   "source": [
    "# Strings- PART II"
   ]
  },
  {
   "cell_type": "markdown",
   "id": "incredible-reserve",
   "metadata": {},
   "source": [
    "## Extract regions of DNA sequence using indexing and slicing"
   ]
  },
  {
   "cell_type": "code",
   "execution_count": null,
   "id": "charitable-drink",
   "metadata": {},
   "outputs": [],
   "source": []
  },
  {
   "cell_type": "code",
   "execution_count": null,
   "id": "removed-bangkok",
   "metadata": {},
   "outputs": [],
   "source": []
  }
 ],
 "metadata": {
  "kernelspec": {
   "display_name": "Python 3",
   "language": "python",
   "name": "python3"
  },
  "language_info": {
   "codemirror_mode": {
    "name": "ipython",
    "version": 3
   },
   "file_extension": ".py",
   "mimetype": "text/x-python",
   "name": "python",
   "nbconvert_exporter": "python",
   "pygments_lexer": "ipython3",
   "version": "3.6.9"
  }
 },
 "nbformat": 4,
 "nbformat_minor": 5
}
