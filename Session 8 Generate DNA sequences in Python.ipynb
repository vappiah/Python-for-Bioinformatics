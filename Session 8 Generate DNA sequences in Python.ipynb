{
 "cells": [
  {
   "cell_type": "markdown",
   "id": "funded-checkout",
   "metadata": {},
   "source": [
    "## Generate your own DNA sequences"
   ]
  },
  {
   "cell_type": "markdown",
   "id": "subtle-shannon",
   "metadata": {},
   "source": [
    "**Required Information**\n",
    "- Length of Sequence\n",
    "- List of Nucleotides"
   ]
  },
  {
   "cell_type": "code",
   "execution_count": 2,
   "id": "single-channels",
   "metadata": {},
   "outputs": [],
   "source": [
    "# define the length of the sequence\n",
    "\n",
    "length=10"
   ]
  },
  {
   "cell_type": "code",
   "execution_count": 3,
   "id": "brown-local",
   "metadata": {},
   "outputs": [],
   "source": [
    "# supply the list of nucleotides/bases\n",
    "\n",
    "bases=['A','C','G','T']"
   ]
  },
  {
   "cell_type": "code",
   "execution_count": 4,
   "id": "answering-harvey",
   "metadata": {},
   "outputs": [
    {
     "name": "stdout",
     "output_type": "stream",
     "text": [
      "10\n"
     ]
    }
   ],
   "source": [
    "print(length)"
   ]
  },
  {
   "cell_type": "code",
   "execution_count": 5,
   "id": "selected-drinking",
   "metadata": {},
   "outputs": [
    {
     "name": "stdout",
     "output_type": "stream",
     "text": [
      "['A', 'C', 'G', 'T']\n"
     ]
    }
   ],
   "source": [
    "print(bases)"
   ]
  },
  {
   "cell_type": "code",
   "execution_count": null,
   "id": "further-spouse",
   "metadata": {},
   "outputs": [],
   "source": []
  },
  {
   "cell_type": "markdown",
   "id": "modular-border",
   "metadata": {},
   "source": [
    "## Generate a Sequence"
   ]
  },
  {
   "cell_type": "code",
   "execution_count": 6,
   "id": "shared-producer",
   "metadata": {},
   "outputs": [],
   "source": [
    "# import random module\n",
    "from random import choice"
   ]
  },
  {
   "cell_type": "code",
   "execution_count": null,
   "id": "vertical-gateway",
   "metadata": {},
   "outputs": [],
   "source": []
  },
  {
   "cell_type": "markdown",
   "id": "brief-destruction",
   "metadata": {},
   "source": [
    "#### Approach 1 : using the for loop"
   ]
  },
  {
   "cell_type": "code",
   "execution_count": 12,
   "id": "pointed-transition",
   "metadata": {},
   "outputs": [],
   "source": [
    "# creating an empty sequence\n",
    "sequence=''\n",
    "\n",
    "# randomly select a base and add it to the sequence (repeat 10 times)\n",
    "for i in range(length):\n",
    "    base=choice(bases)\n",
    "    sequence+=base\n",
    "    "
   ]
  },
  {
   "cell_type": "code",
   "execution_count": 13,
   "id": "surprised-knock",
   "metadata": {},
   "outputs": [
    {
     "name": "stdout",
     "output_type": "stream",
     "text": [
      "GTTTAGGGGC\n"
     ]
    }
   ],
   "source": [
    "print(sequence)"
   ]
  },
  {
   "cell_type": "code",
   "execution_count": null,
   "id": "unauthorized-benjamin",
   "metadata": {},
   "outputs": [],
   "source": []
  },
  {
   "cell_type": "markdown",
   "id": "quality-growth",
   "metadata": {},
   "source": [
    "#### Approach 2 : using a list comprehension"
   ]
  },
  {
   "cell_type": "code",
   "execution_count": 14,
   "id": "brilliant-mentor",
   "metadata": {},
   "outputs": [],
   "source": [
    "sequence=[choice(bases) for i in range(length)]"
   ]
  },
  {
   "cell_type": "code",
   "execution_count": 15,
   "id": "hollywood-rapid",
   "metadata": {},
   "outputs": [
    {
     "name": "stdout",
     "output_type": "stream",
     "text": [
      "['C', 'A', 'A', 'T', 'G', 'G', 'G', 'T', 'T', 'C']\n"
     ]
    }
   ],
   "source": [
    "print(sequence)"
   ]
  },
  {
   "cell_type": "code",
   "execution_count": 16,
   "id": "paperback-lodging",
   "metadata": {},
   "outputs": [],
   "source": [
    "# convert the list to a string\n",
    "sequence=''.join(sequence)"
   ]
  },
  {
   "cell_type": "code",
   "execution_count": 17,
   "id": "guilty-testament",
   "metadata": {},
   "outputs": [
    {
     "name": "stdout",
     "output_type": "stream",
     "text": [
      "CAATGGGTTC\n"
     ]
    }
   ],
   "source": [
    "print(sequence)"
   ]
  },
  {
   "cell_type": "code",
   "execution_count": null,
   "id": "small-whole",
   "metadata": {},
   "outputs": [],
   "source": []
  },
  {
   "cell_type": "markdown",
   "id": "statewide-insider",
   "metadata": {},
   "source": [
    "#### Approach 3 : using a while loop"
   ]
  },
  {
   "cell_type": "code",
   "execution_count": 18,
   "id": "separated-partner",
   "metadata": {},
   "outputs": [],
   "source": [
    "# create an empty list\n",
    "sequence=''\n",
    "\n",
    "while len(sequence)!=10:\n",
    "    base=choice(bases)\n",
    "    sequence+=base"
   ]
  },
  {
   "cell_type": "code",
   "execution_count": 19,
   "id": "sacred-glass",
   "metadata": {
    "scrolled": true
   },
   "outputs": [
    {
     "name": "stdout",
     "output_type": "stream",
     "text": [
      "GGCATTGATC\n"
     ]
    }
   ],
   "source": [
    "print(sequence)"
   ]
  },
  {
   "cell_type": "code",
   "execution_count": null,
   "id": "honey-laptop",
   "metadata": {},
   "outputs": [],
   "source": []
  },
  {
   "cell_type": "markdown",
   "id": "minor-newman",
   "metadata": {},
   "source": [
    "## Generate Multiple Sequences"
   ]
  },
  {
   "cell_type": "markdown",
   "id": "jewish-house",
   "metadata": {},
   "source": [
    "#### Approach: Combine functions and loops"
   ]
  },
  {
   "cell_type": "code",
   "execution_count": 1,
   "id": "generous-appointment",
   "metadata": {},
   "outputs": [],
   "source": [
    "# import the random module\n",
    "from random import choice"
   ]
  },
  {
   "cell_type": "code",
   "execution_count": 2,
   "id": "cutting-emerald",
   "metadata": {},
   "outputs": [],
   "source": [
    "# create a function to generate a sequence\n",
    "def generate_sequence(length=10):\n",
    "    bases=['A','C','G','T']\n",
    "    sequence=[choice(bases) for i in range(length)]\n",
    "    sequence=''.join(sequence)\n",
    "    return sequence"
   ]
  },
  {
   "cell_type": "code",
   "execution_count": 3,
   "id": "endless-transformation",
   "metadata": {},
   "outputs": [],
   "source": [
    "# scenario 1: generate sequences of the same length\n",
    "\n",
    "length=10\n",
    "number_of_sequences=5\n",
    "sequences=[generate_sequence(length) for i in range(number_of_sequences)]"
   ]
  },
  {
   "cell_type": "code",
   "execution_count": 26,
   "id": "british-hamburg",
   "metadata": {},
   "outputs": [
    {
     "data": {
      "text/plain": [
       "['AAGCT', 'ATAAC', 'AACAG', 'CGAGG', 'TCACT']"
      ]
     },
     "execution_count": 26,
     "metadata": {},
     "output_type": "execute_result"
    }
   ],
   "source": [
    "sequences"
   ]
  },
  {
   "cell_type": "code",
   "execution_count": null,
   "id": "greenhouse-access",
   "metadata": {},
   "outputs": [],
   "source": []
  },
  {
   "cell_type": "code",
   "execution_count": null,
   "id": "preceding-heavy",
   "metadata": {},
   "outputs": [],
   "source": [
    "# scenario 2: generate sequences with different lengths"
   ]
  },
  {
   "cell_type": "code",
   "execution_count": 10,
   "id": "prospective-contrary",
   "metadata": {},
   "outputs": [],
   "source": [
    "# user defined lengths\n",
    "lengths=[10,5,6,5]\n",
    "sequences=[generate_sequence(length) for length in lengths]"
   ]
  },
  {
   "cell_type": "code",
   "execution_count": 11,
   "id": "stupid-hindu",
   "metadata": {},
   "outputs": [
    {
     "name": "stdout",
     "output_type": "stream",
     "text": [
      "['GAGGGTACGA', 'GTCCA', 'GAAAAC', 'TGAAT']\n"
     ]
    }
   ],
   "source": [
    "print(sequences)"
   ]
  },
  {
   "cell_type": "code",
   "execution_count": 12,
   "id": "virtual-waste",
   "metadata": {},
   "outputs": [
    {
     "data": {
      "text/plain": [
       "10"
      ]
     },
     "execution_count": 12,
     "metadata": {},
     "output_type": "execute_result"
    }
   ],
   "source": [
    "len(sequences[0])"
   ]
  },
  {
   "cell_type": "code",
   "execution_count": null,
   "id": "floating-northeast",
   "metadata": {},
   "outputs": [],
   "source": []
  },
  {
   "cell_type": "code",
   "execution_count": 27,
   "id": "juvenile-perfume",
   "metadata": {},
   "outputs": [],
   "source": [
    "# computer generated lengths \n",
    "# numbers will be randomly generated by python"
   ]
  },
  {
   "cell_type": "code",
   "execution_count": 28,
   "id": "critical-margin",
   "metadata": {},
   "outputs": [],
   "source": [
    "from random import choice\n",
    "from random import randint"
   ]
  },
  {
   "cell_type": "code",
   "execution_count": 29,
   "id": "subjective-stable",
   "metadata": {},
   "outputs": [],
   "source": [
    "# define the number of sequences\n",
    "number_of_sequences=5\n",
    "\n",
    "# generate the lengths using randint\n",
    "lengths=[randint(5,10) for i in range(number_of_sequences)]"
   ]
  },
  {
   "cell_type": "code",
   "execution_count": 30,
   "id": "magnetic-cisco",
   "metadata": {},
   "outputs": [
    {
     "data": {
      "text/plain": [
       "[5, 6, 10, 9, 7]"
      ]
     },
     "execution_count": 30,
     "metadata": {},
     "output_type": "execute_result"
    }
   ],
   "source": [
    "lengths"
   ]
  },
  {
   "cell_type": "code",
   "execution_count": 31,
   "id": "parallel-circus",
   "metadata": {},
   "outputs": [],
   "source": [
    "sequences=[generate_sequence(length) for length in lengths]"
   ]
  },
  {
   "cell_type": "code",
   "execution_count": 32,
   "id": "opponent-daughter",
   "metadata": {},
   "outputs": [
    {
     "data": {
      "text/plain": [
       "['AACCG', 'AGTCAG', 'ATCCTGAGGT', 'TTCGAGTCG', 'GCGTGAA']"
      ]
     },
     "execution_count": 32,
     "metadata": {},
     "output_type": "execute_result"
    }
   ],
   "source": [
    "sequences"
   ]
  },
  {
   "cell_type": "code",
   "execution_count": null,
   "id": "delayed-elizabeth",
   "metadata": {},
   "outputs": [],
   "source": []
  },
  {
   "cell_type": "code",
   "execution_count": null,
   "id": "rising-coating",
   "metadata": {},
   "outputs": [],
   "source": []
  },
  {
   "cell_type": "code",
   "execution_count": null,
   "id": "focused-miller",
   "metadata": {},
   "outputs": [],
   "source": []
  },
  {
   "cell_type": "code",
   "execution_count": null,
   "id": "verified-pride",
   "metadata": {},
   "outputs": [],
   "source": []
  }
 ],
 "metadata": {
  "kernelspec": {
   "display_name": "Python 3",
   "language": "python",
   "name": "python3"
  },
  "language_info": {
   "codemirror_mode": {
    "name": "ipython",
    "version": 3
   },
   "file_extension": ".py",
   "mimetype": "text/x-python",
   "name": "python",
   "nbconvert_exporter": "python",
   "pygments_lexer": "ipython3",
   "version": "3.6.9"
  }
 },
 "nbformat": 4,
 "nbformat_minor": 5
}
